{
 "cells": [
  {
   "cell_type": "markdown",
   "metadata": {},
   "source": [
    "# Following Along YouTube Tutorial"
   ]
  },
  {
   "cell_type": "code",
   "execution_count": 13,
   "metadata": {},
   "outputs": [],
   "source": [
    "# Import\n",
    "\n",
    "import numpy as np\n",
    "from sklearn.model_selection import train_test_split\n",
    "from sklearn import datasets"
   ]
  },
  {
   "cell_type": "code",
   "execution_count": 14,
   "metadata": {},
   "outputs": [],
   "source": [
    "# Create our dataset.\n",
    "\n",
    "x,y = datasets.make_regression(n_samples=100, n_features=1, noise=20, random_state=1)\n",
    "x_train, x_test, y_train, y_test = train_test_split(x,y, test_size = 0.2, random_state=1)"
   ]
  },
  {
   "cell_type": "code",
   "execution_count": 19,
   "metadata": {},
   "outputs": [],
   "source": [
    "# Set up the Linear Regression Class.\n",
    "\n",
    "class LinearRegression:\n",
    "    \n",
    "    def __init__(self, lr = 0.001, n_iters = 1000):\n",
    "        self.lr = lr\n",
    "        self.n_iters = n_iters\n",
    "        self.weights = None\n",
    "        self.bias = None\n",
    "        \n",
    "        # Create our Fit function\n",
    "        \n",
    "    def fit(self,x,y):\n",
    "        \n",
    "        # init params\n",
    "        \n",
    "        n_samples , n_features = x.shape\n",
    "        self.weights = np.zeros(n_features)\n",
    "        self.bias = 0\n",
    "        \n",
    "        # Approximation part\n",
    "        \n",
    "        for _ in range(self.n_iters):\n",
    "            y_pred = np.dot(x,self.weights) + self.bias\n",
    "            \n",
    "            # Gradient decent part. \n",
    "            \n",
    "            dw = (1/n_samples) * np.dot(x.T, (y_pred - y))\n",
    "            db = (1/n_samples) * np.sum(y_pred - y)\n",
    "            \n",
    "            # Update the weights\n",
    "            \n",
    "            self.weights -= self.lr * dw\n",
    "            self.bias -= self.lr * db\n",
    "            \n",
    "            # Create our predict function\n",
    "    \n",
    "    def predict(self,x):\n",
    "        y_pred = np.dot(x,self.weights) + self.bias\n",
    "        return y_pred"
   ]
  },
  {
   "cell_type": "code",
   "execution_count": 20,
   "metadata": {},
   "outputs": [],
   "source": [
    "# Our MSE\n",
    "\n",
    "def mse(y_true, y_pred):\n",
    "    return np.mean((y_true - y_pred)**2)"
   ]
  },
  {
   "cell_type": "code",
   "execution_count": 22,
   "metadata": {},
   "outputs": [
    {
     "name": "stdout",
     "output_type": "stream",
     "text": [
      "1605.0314848357739\n"
     ]
    }
   ],
   "source": [
    "# Use our model on the data that we created. \n",
    "\n",
    "linear_regression = LinearRegression()\n",
    "linear_regression.fit(x_train,y_train)\n",
    "predicted = linear_regression.predict(x_test)\n",
    "\n",
    "mse_value = mse(y_test, predicted)\n",
    "\n",
    "print(mse_value)"
   ]
  }
 ],
 "metadata": {
  "kernelspec": {
   "display_name": "Python 3",
   "language": "python",
   "name": "python3"
  },
  "language_info": {
   "codemirror_mode": {
    "name": "ipython",
    "version": 3
   },
   "file_extension": ".py",
   "mimetype": "text/x-python",
   "name": "python",
   "nbconvert_exporter": "python",
   "pygments_lexer": "ipython3",
   "version": "3.7.6"
  }
 },
 "nbformat": 4,
 "nbformat_minor": 4
}
